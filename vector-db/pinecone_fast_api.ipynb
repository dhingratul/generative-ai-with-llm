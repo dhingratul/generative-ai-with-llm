{
  "cells": [
    {
      "cell_type": "markdown",
      "metadata": {
        "id": "view-in-github",
        "colab_type": "text"
      },
      "source": [
        "<a href=\"https://colab.research.google.com/github/dhingratul/generative-ai-with-llm/blob/main/vector-db/pinecone_fast_api.ipynb\" target=\"_parent\"><img src=\"https://colab.research.google.com/assets/colab-badge.svg\" alt=\"Open In Colab\"/></a>"
      ]
    },
    {
      "cell_type": "code",
      "source": [
        "# Requirements\n",
        "!pip install pinecone-client~=2.2.2\n",
        "!pip install python-dotenv~=1.0.0\n",
        "!pip install fastapi~=0.97.0\n",
        "!pip install uvicorn~=0.22.0\n",
        "!pip install pyngrok"
      ],
      "metadata": {
        "id": "rVhWbHSD0biD",
        "outputId": "42823007-d6e6-4be0-d106-ed3527a64acf",
        "colab": {
          "base_uri": "https://localhost:8080/"
        }
      },
      "execution_count": 13,
      "outputs": [
        {
          "output_type": "stream",
          "name": "stdout",
          "text": [
            "Requirement already satisfied: pinecone-client~=2.2.2 in /usr/local/lib/python3.10/dist-packages (2.2.2)\n",
            "Requirement already satisfied: requests>=2.19.0 in /usr/local/lib/python3.10/dist-packages (from pinecone-client~=2.2.2) (2.27.1)\n",
            "Requirement already satisfied: pyyaml>=5.4 in /usr/local/lib/python3.10/dist-packages (from pinecone-client~=2.2.2) (6.0.1)\n",
            "Requirement already satisfied: loguru>=0.5.0 in /usr/local/lib/python3.10/dist-packages (from pinecone-client~=2.2.2) (0.7.0)\n",
            "Requirement already satisfied: typing-extensions>=3.7.4 in /usr/local/lib/python3.10/dist-packages (from pinecone-client~=2.2.2) (4.7.1)\n",
            "Requirement already satisfied: dnspython>=2.0.0 in /usr/local/lib/python3.10/dist-packages (from pinecone-client~=2.2.2) (2.4.1)\n",
            "Requirement already satisfied: python-dateutil>=2.5.3 in /usr/local/lib/python3.10/dist-packages (from pinecone-client~=2.2.2) (2.8.2)\n",
            "Requirement already satisfied: urllib3>=1.21.1 in /usr/local/lib/python3.10/dist-packages (from pinecone-client~=2.2.2) (1.26.16)\n",
            "Requirement already satisfied: tqdm>=4.64.1 in /usr/local/lib/python3.10/dist-packages (from pinecone-client~=2.2.2) (4.65.0)\n",
            "Requirement already satisfied: numpy>=1.22.0 in /usr/local/lib/python3.10/dist-packages (from pinecone-client~=2.2.2) (1.22.4)\n",
            "Requirement already satisfied: six>=1.5 in /usr/local/lib/python3.10/dist-packages (from python-dateutil>=2.5.3->pinecone-client~=2.2.2) (1.16.0)\n",
            "Requirement already satisfied: certifi>=2017.4.17 in /usr/local/lib/python3.10/dist-packages (from requests>=2.19.0->pinecone-client~=2.2.2) (2023.7.22)\n",
            "Requirement already satisfied: charset-normalizer~=2.0.0 in /usr/local/lib/python3.10/dist-packages (from requests>=2.19.0->pinecone-client~=2.2.2) (2.0.12)\n",
            "Requirement already satisfied: idna<4,>=2.5 in /usr/local/lib/python3.10/dist-packages (from requests>=2.19.0->pinecone-client~=2.2.2) (3.4)\n",
            "Requirement already satisfied: python-dotenv~=1.0.0 in /usr/local/lib/python3.10/dist-packages (1.0.0)\n",
            "Requirement already satisfied: fastapi~=0.97.0 in /usr/local/lib/python3.10/dist-packages (0.97.0)\n",
            "Requirement already satisfied: pydantic!=1.8,!=1.8.1,<2.0.0,>=1.7.4 in /usr/local/lib/python3.10/dist-packages (from fastapi~=0.97.0) (1.10.12)\n",
            "Requirement already satisfied: starlette<0.28.0,>=0.27.0 in /usr/local/lib/python3.10/dist-packages (from fastapi~=0.97.0) (0.27.0)\n",
            "Requirement already satisfied: typing-extensions>=4.2.0 in /usr/local/lib/python3.10/dist-packages (from pydantic!=1.8,!=1.8.1,<2.0.0,>=1.7.4->fastapi~=0.97.0) (4.7.1)\n",
            "Requirement already satisfied: anyio<5,>=3.4.0 in /usr/local/lib/python3.10/dist-packages (from starlette<0.28.0,>=0.27.0->fastapi~=0.97.0) (3.7.1)\n",
            "Requirement already satisfied: idna>=2.8 in /usr/local/lib/python3.10/dist-packages (from anyio<5,>=3.4.0->starlette<0.28.0,>=0.27.0->fastapi~=0.97.0) (3.4)\n",
            "Requirement already satisfied: sniffio>=1.1 in /usr/local/lib/python3.10/dist-packages (from anyio<5,>=3.4.0->starlette<0.28.0,>=0.27.0->fastapi~=0.97.0) (1.3.0)\n",
            "Requirement already satisfied: exceptiongroup in /usr/local/lib/python3.10/dist-packages (from anyio<5,>=3.4.0->starlette<0.28.0,>=0.27.0->fastapi~=0.97.0) (1.1.2)\n",
            "Requirement already satisfied: uvicorn~=0.22.0 in /usr/local/lib/python3.10/dist-packages (0.22.0)\n",
            "Requirement already satisfied: click>=7.0 in /usr/local/lib/python3.10/dist-packages (from uvicorn~=0.22.0) (8.1.6)\n",
            "Requirement already satisfied: h11>=0.8 in /usr/local/lib/python3.10/dist-packages (from uvicorn~=0.22.0) (0.14.0)\n",
            "Collecting pyngrok\n",
            "  Downloading pyngrok-6.0.0.tar.gz (681 kB)\n",
            "\u001b[2K     \u001b[90m━━━━━━━━━━━━━━━━━━━━━━━━━━━━━━━━━━━━━━━\u001b[0m \u001b[32m681.2/681.2 kB\u001b[0m \u001b[31m7.6 MB/s\u001b[0m eta \u001b[36m0:00:00\u001b[0m\n",
            "\u001b[?25h  Preparing metadata (setup.py) ... \u001b[?25l\u001b[?25hdone\n",
            "Requirement already satisfied: PyYAML in /usr/local/lib/python3.10/dist-packages (from pyngrok) (6.0.1)\n",
            "Building wheels for collected packages: pyngrok\n",
            "  Building wheel for pyngrok (setup.py) ... \u001b[?25l\u001b[?25hdone\n",
            "  Created wheel for pyngrok: filename=pyngrok-6.0.0-py3-none-any.whl size=19866 sha256=6da874321f1c8a25972759673e8aeb631a4f4fcae22930d048c8c348fd6eb825\n",
            "  Stored in directory: /root/.cache/pip/wheels/5c/42/78/0c3d438d7f5730451a25f7ac6cbf4391759d22a67576ed7c2c\n",
            "Successfully built pyngrok\n",
            "Installing collected packages: pyngrok\n",
            "Successfully installed pyngrok-6.0.0\n"
          ]
        }
      ]
    },
    {
      "cell_type": "code",
      "source": [
        "import pinecone\n",
        "import os\n",
        "import json\n",
        "from dotenv import load_dotenv, find_dotenv"
      ],
      "metadata": {
        "id": "lcYKo0cC2Ylr",
        "outputId": "a151edbe-21b0-4501-dd60-56a524764500",
        "colab": {
          "base_uri": "https://localhost:8080/"
        }
      },
      "execution_count": 3,
      "outputs": [
        {
          "output_type": "stream",
          "name": "stderr",
          "text": [
            "/usr/local/lib/python3.10/dist-packages/pinecone/index.py:4: TqdmExperimentalWarning: Using `tqdm.autonotebook.tqdm` in notebook mode. Use `tqdm.tqdm` instead to force console mode (e.g. in jupyter console)\n",
            "  from tqdm.autonotebook import tqdm\n"
          ]
        }
      ]
    },
    {
      "cell_type": "code",
      "source": [
        "\n",
        "class PineconeOperations:\n",
        "\n",
        "    def __init__(self):\n",
        "        _ = load_dotenv(find_dotenv())  # read local .env file\n",
        "        api_key = os.getenv('b')\n",
        "        api_env = os.getenv('PINECONE_ENVIRONMENT')\n",
        "\n",
        "        pinecone.init(\n",
        "            api_key=api_key,\n",
        "            environment=api_env\n",
        "        )\n",
        "        self.index = None\n",
        "\n",
        "    def create_index(self, index_name='default') -> list:\n",
        "        # fetch the list of indexes\n",
        "        indexes = pinecone.list_indexes()\n",
        "\n",
        "        # create index if there are no indexes found\n",
        "        if len(indexes) == 0:\n",
        "            pinecone.create_index(index_name, dimension=8, metric=\"euclidean\")\n",
        "\n",
        "        return indexes\n",
        "\n",
        "    def connect_index(self):\n",
        "        indexes = self.create_index()\n",
        "        # connect to a specific index\n",
        "        self.index = pinecone.Index(indexes[0])\n",
        "\n",
        "    def upsert(self, data):\n",
        "        # sample data of the format\n",
        "        # [\n",
        "        #     (\"A\", [0.1, 0.1, 0.1, 0.1, 0.1, 0.1, 0.1, 0.1]),\n",
        "        #     (\"B\", [0.2, 0.2, 0.2, 0.2, 0.2, 0.2, 0.2, 0.2]),\n",
        "        #     (\"C\", [0.3, 0.3, 0.3, 0.3, 0.3, 0.3, 0.3, 0.3]),\n",
        "        #     (\"D\", [0.4, 0.4, 0.4, 0.4, 0.4, 0.4, 0.4, 0.4]),\n",
        "        #     (\"E\", [0.5, 0.5, 0.5, 0.5, 0.5, 0.5, 0.5, 0.5])\n",
        "        # ]\n",
        "        # Upsert sample data (5 8-dimensional vectors)\n",
        "        return json.loads(str(self.index.upsert(vectors=data, namespace=\"quickstart\")).replace(\"'\", '\"'))\n",
        "\n",
        "    def fetch_stats(self):\n",
        "        # fetches stats about the index\n",
        "        stats = self.index.describe_index_stats()\n",
        "        return str(stats)\n",
        "\n",
        "    def query(self, query_vector):\n",
        "        # query from the index, eg: [0.3, 0.3, 0.3, 0.3, 0.3, 0.3, 0.3, 0.3]\n",
        "        response = self.index.query(\n",
        "            vector=query_vector,\n",
        "            top_k=2,\n",
        "            include_values=True,\n",
        "            namespace=\"quickstart\"\n",
        "        )\n",
        "        return json.loads(str(response).replace(\"'\", '\"'))"
      ],
      "metadata": {
        "id": "EVIndZe82fg5"
      },
      "execution_count": 4,
      "outputs": []
    },
    {
      "cell_type": "code",
      "source": [
        "from fastapi import FastAPI\n",
        "from typing import List, Tuple, Any\n",
        "from pydantic.main import BaseModel\n",
        "\n",
        "app = FastAPI()\n",
        "pineconeOps = PineconeOperations()\n",
        "\n",
        "\n",
        "class Data(BaseModel):\n",
        "    payload: List[Tuple[Any, Any]]\n",
        "\n",
        "\n",
        "@app.get(\"/api/v1/health\")\n",
        "async def root():\n",
        "    return {\"message\": \"OK\"}\n",
        "\n",
        "\n",
        "@app.post(\"/api/v1/index\")\n",
        "async def create_index(name: str):\n",
        "    return pineconeOps.create_index(index_name=name)\n",
        "\n",
        "\n",
        "@app.get(\"/api/v1/index/stats\")\n",
        "async def stats():\n",
        "    return pineconeOps.fetch_stats()\n",
        "\n",
        "\n",
        "@app.get(\"/api/v1/connect\")\n",
        "async def create_index():\n",
        "    return pineconeOps.connect_index()\n",
        "\n",
        "\n",
        "@app.post(\"/api/v1/vectors\")\n",
        "async def create_index(data: Data):\n",
        "    return pineconeOps.upsert(data=data.payload)\n",
        "\n",
        "\n",
        "@app.post(\"/api/v1/search-vector\")\n",
        "async def create_index(payload: List[Any]):\n",
        "    return pineconeOps.query(query_vector=payload)\n"
      ],
      "metadata": {
        "id": "LQOOAxli2oDp"
      },
      "execution_count": 8,
      "outputs": []
    },
    {
      "cell_type": "code",
      "source": [
        "from uvicorn import Config, Server\n",
        "\n",
        "config = Config(app)\n",
        "server = Server(config=config)\n",
        "await server.serve()"
      ],
      "metadata": {
        "id": "NcYKRgRb3HEM",
        "outputId": "a9902fdd-11f4-4b0b-de1e-10d66319688b",
        "colab": {
          "base_uri": "https://localhost:8080/"
        }
      },
      "execution_count": 15,
      "outputs": [
        {
          "output_type": "stream",
          "name": "stderr",
          "text": [
            "INFO:     Started server process [284]\n",
            "INFO:     Waiting for application startup.\n",
            "INFO:     Application startup complete.\n",
            "INFO:     Uvicorn running on http://127.0.0.1:8000 (Press CTRL+C to quit)\n",
            "INFO:     Shutting down\n",
            "INFO:     Waiting for application shutdown.\n",
            "INFO:     Application shutdown complete.\n",
            "INFO:     Finished server process [284]\n"
          ]
        }
      ]
    }
  ],
  "metadata": {
    "colab": {
      "name": "Welcome To Colaboratory",
      "toc_visible": true,
      "provenance": [],
      "include_colab_link": true
    },
    "kernelspec": {
      "display_name": "Python 3",
      "name": "python3"
    }
  },
  "nbformat": 4,
  "nbformat_minor": 0
}